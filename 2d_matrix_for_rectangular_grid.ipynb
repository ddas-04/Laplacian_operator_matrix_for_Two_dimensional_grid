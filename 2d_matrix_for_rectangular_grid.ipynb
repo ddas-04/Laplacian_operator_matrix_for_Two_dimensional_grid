{
 "cells": [
  {
   "cell_type": "code",
   "execution_count": 1,
   "metadata": {},
   "outputs": [
    {
     "name": "stdout",
     "output_type": "stream",
     "text": [
      "Once deleted, variables cannot be recovered. Proceed (y/[n])? y\n"
     ]
    }
   ],
   "source": [
    "%reset"
   ]
  },
  {
   "cell_type": "code",
   "execution_count": 2,
   "metadata": {},
   "outputs": [],
   "source": [
    "import numpy as np"
   ]
  },
  {
   "cell_type": "code",
   "execution_count": 3,
   "metadata": {},
   "outputs": [],
   "source": [
    "nx=6\n",
    "ny=4"
   ]
  },
  {
   "cell_type": "code",
   "execution_count": 4,
   "metadata": {},
   "outputs": [],
   "source": [
    "A=np.zeros([nx*ny,nx*ny])"
   ]
  },
  {
   "cell_type": "code",
   "execution_count": 5,
   "metadata": {},
   "outputs": [],
   "source": [
    "for i in range(ny):\n",
    "    for j in range(nx):\n",
    "        row=nx*i+j\n",
    "        if row==nx*i:\n",
    "            # PBC for lateral left edge\n",
    "            A[row, row+nx-1]=1 \n",
    "            # PBC for lateral right edge\n",
    "            A[row+nx-1, i*nx]=1  \n",
    "            \n",
    "        # coupling between a row and its neighboring upper row      \n",
    "        if i<ny-1:\n",
    "            A[row, row+nx]=1 \n",
    "        # coupling between a row and its neighboring lower row\n",
    "        if i>0:\n",
    "            A[row,row-nx]=1\n",
    "        # self interaction at point (i,j)\n",
    "        A[row,row]=-4\n",
    "        # coupling between a point and its right neighbor for a row\n",
    "        if j<nx-1:\n",
    "            A[row,row+1]=1\n",
    "        # coupling between a point and its left neighbor for a row\n",
    "        if j>0:\n",
    "            A[row,row-1]=1"
   ]
  },
  {
   "cell_type": "code",
   "execution_count": 6,
   "metadata": {},
   "outputs": [],
   "source": [
    "# Write the matrix in an excel file if required\n",
    "import xlsxwriter\n",
    "\n",
    "workbook = xlsxwriter.Workbook('matrix_for_'+str(nx)+'_X'+str(ny)+'_grid.xlsx')\n",
    "worksheet = workbook.add_worksheet()\n",
    "\n",
    "for row_num, row_data in enumerate(A):\n",
    "    for col_num, col_data in enumerate(row_data):\n",
    "        worksheet.write(row_num, col_num, col_data)\n",
    "workbook.close()"
   ]
  }
 ],
 "metadata": {
  "kernelspec": {
   "display_name": "Python 3",
   "language": "python",
   "name": "python3"
  },
  "language_info": {
   "codemirror_mode": {
    "name": "ipython",
    "version": 3
   },
   "file_extension": ".py",
   "mimetype": "text/x-python",
   "name": "python",
   "nbconvert_exporter": "python",
   "pygments_lexer": "ipython3",
   "version": "3.8.3"
  }
 },
 "nbformat": 4,
 "nbformat_minor": 4
}
